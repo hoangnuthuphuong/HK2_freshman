{
  "nbformat": 4,
  "nbformat_minor": 0,
  "metadata": {
    "colab": {
      "name": "BT08_CaiDatNganXep-Stack",
      "provenance": [],
      "collapsed_sections": []
    },
    "kernelspec": {
      "name": "python3",
      "display_name": "Python 3"
    },
    "language_info": {
      "name": "python"
    }
  },
  "cells": [
    {
      "cell_type": "code",
      "source": [
        "class Node:\n",
        "   def __init__(self, value):\n",
        "      self.value = value\n",
        "      self.next = None\n",
        " \n",
        "class Stack:\n",
        "    \n",
        "   # Khởi tạo 1 ngăn xếp\n",
        "   # Sử dụng 1 nút giả đó là\n",
        "   # dễ dàng hơn để xử lý các trường hợp cạnh.\n",
        "   def __init__(self):\n",
        "      self.head = Node(\"head\")\n",
        "      self.size = 0\n",
        " \n",
        "   #Biểu diễn chuỗi của ngăn xếp\n",
        "   def __str__(self):\n",
        "      cur = self.head.next\n",
        "      out = \"\"\n",
        "      while cur:\n",
        "         out += str(cur.value) + \"->\"\n",
        "         cur = cur.next\n",
        "      return out[:-3]  \n",
        " \n",
        "   # Nhận kích thước hiện tại của ngăn xếp\n",
        "   def getSize(self):\n",
        "      return self.size\n",
        "    \n",
        "   #Kiểm tra xem ngăn xếp có trống không\n",
        "   def isEmpty(self):\n",
        "      return self.size == 0\n",
        "    \n",
        "# Lấy mục trên cùng của ngăn xếp \n",
        "   def peek (self):\n",
        "       \n",
        "      # Kiểm tra vệ sinh để xem nếu chúng tôi\n",
        "      # Đang xem 1 ngăn xếp trống\n",
        "      if self.isEmpty():\n",
        "         raise Exception(\"Peeking from an empty stack\")\n",
        "      return self.head.next.value\n",
        " \n",
        "   # Đẩy một giá trị vào ngăn xếp. (Đẩy giá trị vào ngăn xếp.)\n",
        "   def push(self, value):\n",
        "      node = Node(value)\n",
        "      node.next = self.head.next\n",
        "      self.head.next = node\n",
        "      self.size += 1\n",
        "\n",
        "   # Loại bỏ một giá trị khỏi ngăn xếp và trả về.\n",
        "   def pop(self):\n",
        "      if self.isEmpty():\n",
        "         raise Exception(\"Popping from an empty stack\")\n",
        "      remove = self.head.next\n",
        "      self.head.next = self.head.next.next\n",
        "      self.size -= 1\n",
        "      return remove.value\n",
        " \n",
        "\n",
        "if __name__ == \"__main__\":\n",
        "   stack = Stack()\n",
        "   for i in range(1, 11):\n",
        "      stack.push(i)\n",
        "   print(f\"Stack: {stack}\")\n",
        " \n",
        "   for _ in range(1, 6):\n",
        "      remove = stack.pop()\n",
        "      print(f\"Pop: {remove}\")\n",
        "   print(f\"Stack: {stack}\")\n"
      ],
      "metadata": {
        "colab": {
          "base_uri": "https://localhost:8080/"
        },
        "id": "Eb5HQ5LwR-1l",
        "outputId": "64e435cd-a285-41db-de78-b7bb26b709c7"
      },
      "execution_count": 19,
      "outputs": [
        {
          "output_type": "stream",
          "name": "stdout",
          "text": [
            "Stack: 10->9->8->7->6->5->4->3->2->\n",
            "Pop: 10\n",
            "Pop: 9\n",
            "Pop: 8\n",
            "Pop: 7\n",
            "Pop: 6\n",
            "Stack: 5->4->3->2->\n"
          ]
        }
      ]
    }
  ]
}
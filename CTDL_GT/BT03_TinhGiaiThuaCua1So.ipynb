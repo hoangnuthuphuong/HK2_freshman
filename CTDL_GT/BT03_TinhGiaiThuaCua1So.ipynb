{
  "nbformat": 4,
  "nbformat_minor": 0,
  "metadata": {
    "colab": {
      "name": "BT03_TinhGiaiThuaCua1So",
      "provenance": [],
      "collapsed_sections": []
    },
    "kernelspec": {
      "name": "python3",
      "display_name": "Python 3"
    },
    "language_info": {
      "name": "python"
    }
  },
  "cells": [
    {
      "cell_type": "markdown",
      "source": [
        "**Cách hoạt động của giải thuật:**\n",
        "\n",
        "> Giai thừa của 1 số là tích các số liên tiếp từ 1 đến số đó. Trường hợp đặc biệt, giai thừa của 0 và 1 là 1.\n",
        "\n",
        "> Sử dụng phương pháp đệ quy để tính giai thừa. Nếu n=0 thì trả về giai thừa bằng 1, nếu n#0 thì chạy hàm."
      ],
      "metadata": {
        "id": "TAF9Ab1mUknk"
      }
    },
    {
      "cell_type": "code",
      "source": [
        "n = int(input(\"Nhập số cần tính giai thừa: \"))\n",
        "def giaiThua(n):\n",
        "    if n == 0:\n",
        "        return 1\n",
        "    return n * giaiThua(n - 1)\n",
        "\n",
        "print(\"Giai thừa của\",n,\"bằng\",giaiThua(n))\n"
      ],
      "metadata": {
        "colab": {
          "base_uri": "https://localhost:8080/"
        },
        "id": "Eb5HQ5LwR-1l",
        "outputId": "4a90432f-5321-4e86-ddd5-a257fb864490"
      },
      "execution_count": 2,
      "outputs": [
        {
          "output_type": "stream",
          "name": "stdout",
          "text": [
            "Nhập số cần tính giai thừa: 5\n",
            "Giai thừa của 5 bằng 120\n"
          ]
        }
      ]
    }
  ]
}
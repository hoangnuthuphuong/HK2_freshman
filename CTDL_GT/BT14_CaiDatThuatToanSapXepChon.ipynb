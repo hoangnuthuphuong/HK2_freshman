{
  "nbformat": 4,
  "nbformat_minor": 0,
  "metadata": {
    "colab": {
      "name": "BT14_CaiDatThuatToanSapXepChon",
      "private_outputs": true,
      "provenance": []
    },
    "kernelspec": {
      "name": "python3",
      "display_name": "Python 3"
    },
    "language_info": {
      "name": "python"
    }
  },
  "cells": [
    {
      "cell_type": "code",
      "execution_count": null,
      "metadata": {
        "id": "IDAkWT1dw-hF"
      },
      "outputs": [],
      "source": [
        "def selection_sort(nums):\n",
        "    # Giá trị này của i tương ứng với bao nhiêu giá trị đã được sắp xếp\n",
        "    for i in range(len(nums)):\n",
        "        # Giả định rằng mục đầu tiên của phân đoạn chưa được sắp xếp là mục nhỏ nhất \n",
        "        lowest_value_index = i\n",
        "        # Vòng lặp này lặp lại các mục chưa được sắp xếp\n",
        "        for j in range(i + 1, len(nums)):\n",
        "            if nums[j] < nums[lowest_value_index]:\n",
        "                lowest_value_index = j\n",
        "        # Hoán đổi các giá trị của phần tử chưa được sắp xếp thấp nhất với phần tử chưa được sắp xếp đầu tiên\n",
        "        nums[i], nums[lowest_value_index] = nums[lowest_value_index], nums[i]\n",
        "\n",
        "random_list_of_nums = [17, 9, 3, 25, 5]\n",
        "selection_sort(random_list_of_nums)\n",
        "print(random_list_of_nums)  \n"
      ]
    }
  ]
}
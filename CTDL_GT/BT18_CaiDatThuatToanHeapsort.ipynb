{
  "nbformat": 4,
  "nbformat_minor": 0,
  "metadata": {
    "colab": {
      "name": "BT18_CaiDatThuatToanHeapsort",
      "provenance": [],
      "collapsed_sections": []
    },
    "kernelspec": {
      "name": "python3",
      "display_name": "Python 3"
    },
    "language_info": {
      "name": "python"
    }
  },
  "cells": [
    {
      "cell_type": "markdown",
      "source": [
        "**Cách hoạt động của giải thuật:**\n",
        "\n",
        "> Heap sort là kỹ thuật sắp xếp dựa trên so sánh dựa trên cấu trúc dữ liệu Binary Heap. Nó tương tự như sắp xếp chọn, nơi đầu tiên chúng ta tìm phần tử lớn nhất và đặt phần tử lớn nhất ở cuối. Chúng ta lặp lại quá trình tương tự cho các phần tử còn lại.\n",
        "\n",
        "> Một Binary Heap là một cây nhị phân hoàn chỉnh trong đó các mục được lưu trữ theo một thứ tự đặc biệt sao cho giá trị trong nút cha lớn hơn (hoặc nhỏ hơn) so với giá trị trong hai nút con của nó. Cái trước được gọi là max heap và cái sau được gọi là min-heap. Heap có thể được biểu diễn bằng một cây hoặc mảng nhị phân.\n",
        "\n",
        "**Binary Heap được biểu diễn dựa trên mảng**\n",
        "> Vì một Binary Heap là một cây nhị phân hoàn chỉnh, nó có thể dễ dàng được biểu diễn dưới dạng một mảng và cách biểu diễn dựa trên mảng là hiệu quả về không gian. Nếu nút cha được lưu trữ ở chỉ mục I, nút con bên trái có thể được tính bằng 2 * I + 1 và nút con bên phải bằng 2 * I + 2 (giả sử việc lập chỉ mục bắt đầu từ 0).\n",
        "\n",
        "**Thuật toán Heap Sort(xếp đống) để sắp xếp theo thứ tự tăng dần:**\n",
        "\n",
        "1. Xây dựng một heap tối đa từ dữ liệu đầu vào.\n",
        "\n",
        "2. Tại thời điểm này, mục lớn nhất được lưu trữ ở gốc của heap. Thay thế nó bằng mục cuối cùng của heap, sau đó giảm kích thước của heap đi 1. Cuối cùng, ta có một gốc heap.\n",
        "\n",
        "3. Lặp lại bước 2 trong khi kích thước của heap lớn hơn 1.\n",
        "\n"
      ],
      "metadata": {
        "id": "MfqTKSBotZL4"
      }
    },
    {
      "cell_type": "code",
      "execution_count": 4,
      "metadata": {
        "colab": {
          "base_uri": "https://localhost:8080/"
        },
        "id": "DRYLWLNRrZy8",
        "outputId": "d99be3a3-0445-48ea-c28c-ef0deb14dd17"
      },
      "outputs": [
        {
          "output_type": "stream",
          "name": "stdout",
          "text": [
            "Mảng đã sắp xếp là\n",
            " 5\n",
            " 6\n",
            " 7\n",
            " 11\n",
            " 12\n",
            " 13\n"
          ]
        }
      ],
      "source": [
        "# Để xếp đống cây con bắt đầu từ i.\n",
        "# n là kích thước của đống\n",
        "def heapify (arr, n, i):\n",
        "    largest = i # Khởi tạo largest dưới dạng gốc\n",
        "    l = 2 * i + 1 # còn lại = 2 * i + 1\n",
        "    r = 2 * i + 2 # đúng = 2 * i + 2\n",
        "  \n",
        "    # Xem liệu con bên trái của root có tồn tại hay không và\n",
        "    # lớn hơn gốc\n",
        "    if l < n and arr[i] < arr[l]: \n",
        "        largest = l \n",
        "  \n",
        "    # Xem liệu con bên phải của root có tồn tại hay không và\n",
        "    # lớn hơn gốc\n",
        "    if r <n and arr [largest] <arr [r]:\n",
        "        largest = r\n",
        "  \n",
        "    # Thay đổi gốc, nếu cần\n",
        "    if largest != i: \n",
        "        arr [i], arr [largest] = arr [largest], arr [i] # hoán đổi\n",
        "  \n",
        "        # Xử lý gốc.\n",
        "        heapify (arr, n, largest)\n",
        "  \n",
        "# Hàm chính để sắp xếp một mảng có kích thước nhất định\n",
        "def heapSort (arr):\n",
        "    n = len (arr)\n",
        "  \n",
        "    # Xây dựng mức tối đa.\n",
        "    for i in range(n // 2 - 1, -1, -1):\n",
        "        heapify (arr, n, i)\n",
        "  \n",
        "    # Từng phần tử trích xuất một\n",
        "    for i in range(n-1, 0, -1):\n",
        "        arr [i], arr [0] = arr [0], arr [i] # hoán đổi\n",
        "        heapify (arr, i, 0)\n",
        "  \n",
        "arr = [12, 11, 13, 5, 6, 7]\n",
        "heapSort (arr)\n",
        "n = len (arr)\n",
        "print (\"Mảng đã sắp xếp là\")\n",
        "for i in range(n):\n",
        "    print (\"% d\"% arr [i])"
      ]
    }
  ]
}
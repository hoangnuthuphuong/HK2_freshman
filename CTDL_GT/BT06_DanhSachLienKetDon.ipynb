{
  "nbformat": 4,
  "nbformat_minor": 0,
  "metadata": {
    "colab": {
      "name": "BT06_DanhSachLienKetDon",
      "provenance": [],
      "collapsed_sections": []
    },
    "kernelspec": {
      "name": "python3",
      "display_name": "Python 3"
    },
    "language_info": {
      "name": "python"
    }
  },
  "cells": [
    {
      "cell_type": "code",
      "source": [
        "# Node class \n",
        "class Node: \n",
        "  \n",
        "    # Hàm khởi tạo dối tượng  node\n",
        "    def __init__(self, data): \n",
        "        self.data = data  # Gán dữ liệu\n",
        "        self.next = None  # Khởi tạo tiếp theo là null\n",
        "  \n",
        "  \n",
        "# Lớp Danh sách được liên kết chứa một đối tượng Node\n",
        "class LinkedList: \n",
        "  \n",
        "    # Hàm khởi tạo head \n",
        "    def __init__(self): \n",
        "        self.head = None\n",
        "  \n",
        "    # Hàm này in nội dung của danh sách liên kết \n",
        "    # Bắt đầu từ head \n",
        "    def printList(self): \n",
        "        temp = self.head \n",
        "        while (temp): \n",
        "            print (temp.data) \n",
        "            temp = temp.next\n",
        "  \n",
        "  \n",
        "# Quá trình thực thi mã bắt đầu ở đây\n",
        "if __name__=='__main__': \n",
        "  \n",
        "    # Bắt đầu với ds rỗng \n",
        "    llist = LinkedList() \n",
        "  \n",
        "    llist.head = Node(17) \n",
        "    second = Node(9) \n",
        "    third = Node(3) \n",
        "  \n",
        "    llist.head.next = second; # Liên kết node thứ nhất vs node thứ 2 \n",
        "    second.next = third; # Liên kết node thứ 2 với thứ 3 \n",
        "  \n",
        "    llist.printList()\n",
        "\n"
      ],
      "metadata": {
        "colab": {
          "base_uri": "https://localhost:8080/"
        },
        "id": "Eb5HQ5LwR-1l",
        "outputId": "8347af3e-92d9-4bdb-c3b6-b1c4ade99ffb"
      },
      "execution_count": 13,
      "outputs": [
        {
          "output_type": "stream",
          "name": "stdout",
          "text": [
            "17\n",
            "9\n",
            "3\n"
          ]
        }
      ]
    }
  ]
}
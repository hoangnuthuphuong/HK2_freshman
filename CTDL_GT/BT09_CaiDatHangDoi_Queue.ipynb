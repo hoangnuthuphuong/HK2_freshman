{
  "nbformat": 4,
  "nbformat_minor": 0,
  "metadata": {
    "colab": {
      "name": "BT09_CaiDatHangDoi-Queue",
      "provenance": [],
      "collapsed_sections": []
    },
    "kernelspec": {
      "name": "python3",
      "display_name": "Python 3"
    },
    "language_info": {
      "name": "python"
    }
  },
  "cells": [
    {
      "cell_type": "code",
      "source": [
        "queue = []\n",
        "# Thêm các phần tử vào hàng đợi\n",
        "queue.append('p')\n",
        "queue.append('h')\n",
        "queue.append('u')\n",
        "queue.append('o')\n",
        "queue.append('n')\n",
        "queue.append('g')\n",
        " \n",
        "print (\"Hàng đợi ban đầu\")\n",
        "print(queue)\n",
        "\n",
        "# Xóa các phần tử khỏi hàng đợi\n",
        "print (\"\\nCác triển khai được xếp hàng từ hàng đợi\")\n",
        "print (queue.pop (3))\n",
        "print (queue.pop (4))\n",
        " \n",
        "print (\"\\nHàng đợi sau khi loại bỏ các phần tử\")\n",
        "print(queue)\n"
      ],
      "metadata": {
        "colab": {
          "base_uri": "https://localhost:8080/"
        },
        "id": "Eb5HQ5LwR-1l",
        "outputId": "f7be17b7-13c0-474b-f8b1-9a16f6333935"
      },
      "execution_count": 38,
      "outputs": [
        {
          "output_type": "stream",
          "name": "stdout",
          "text": [
            "Hàng đợi ban đầu\n",
            "['p', 'h', 'u', 'o', 'n', 'g']\n",
            "\n",
            "Các triển khai được xếp hàng từ hàng đợi\n",
            "o\n",
            "g\n",
            "\n",
            "Hàng đợi sau khi loại bỏ các phần tử\n",
            "['p', 'h', 'u', 'n']\n"
          ]
        }
      ]
    }
  ]
}
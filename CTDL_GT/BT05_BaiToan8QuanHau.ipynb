{
  "nbformat": 4,
  "nbformat_minor": 0,
  "metadata": {
    "colab": {
      "name": "BT05_BaiToan8QuanHau",
      "private_outputs": true,
      "provenance": [],
      "collapsed_sections": []
    },
    "kernelspec": {
      "name": "python3",
      "display_name": "Python 3"
    },
    "language_info": {
      "name": "python"
    }
  },
  "cells": [
    {
      "cell_type": "code",
      "execution_count": null,
      "metadata": {
        "id": "pV8JlpaWfm65"
      },
      "outputs": [],
      "source": [
        "class NQueens:\n",
        "    \"\"\"Tạo các hàm cho các trường hợp xảy ra\"\"\"\n",
        "    def __init__(self, size):\n",
        "        self.size = size\n",
        "        self.solutions = 0\n",
        "        self.solve()\n",
        "\n",
        "    def solve(self):\n",
        "        \"\"\"Giải câu đố n quân hậu và in ra số lời giải\"\"\"\n",
        "        positions = [-1] * self.size\n",
        "        self.put_queen(positions, 0)\n",
        "        print(\"Found\", self.solutions, \"solutions.\")\n",
        "\n",
        "    def put_queen(self, positions, target_row):\n",
        "        \"\"\"\n",
        "        Cố gắng đặt một quân hậu trên target_row bằng cách kiểm tra tất cả N trường hợp có thể xảy ra.\n",
        "        Nếu một địa điểm hợp lệ được tìm thấy, hàm tự gọi nó đang cố gắng đặt một quân hậu trên hàng tiếp theo cho đến khi tất cả N quân hậu được đặt trên bảng NxN.\n",
        "        \"\"\"\n",
        "        # Base (stop) case - all N rows are occupied\n",
        "        if target_row == self.size:\n",
        "            self.show_full_board(positions)\n",
        "            # self.show_short_board(positions)\n",
        "            self.solutions += 1\n",
        "        else:\n",
        "            # For all N columns positions try to place a queen\n",
        "            for column in range(self.size):\n",
        "                # Reject all invalid positions\n",
        "                if self.check_place(positions, target_row, column):\n",
        "                    positions[target_row] = column\n",
        "                    self.put_queen(positions, target_row + 1)\n",
        "\n",
        "\n",
        "    def check_place(self, positions, ocuppied_rows, column):\n",
        "        \"\"\"\n",
        "        Kiểm tra xem vị trí có bị quân hậu khác tấn công không\n",
        "        \"\"\"\n",
        "        for i in range(ocuppied_rows):\n",
        "            if positions[i] == column or \\\n",
        "                positions[i] - i == column - ocuppied_rows or \\\n",
        "                positions[i] + i == column + ocuppied_rows:\n",
        "\n",
        "                return False\n",
        "        return True\n",
        "\n",
        "    def show_full_board(self, positions):\n",
        "        \"\"\"Trình chiếu bàn cờ NxN\"\"\"\n",
        "        for row in range(self.size):\n",
        "            line = \"\"\n",
        "            for column in range(self.size):\n",
        "                if positions[row] == column:\n",
        "                    line += \"Q \"\n",
        "                else:\n",
        "                    line += \". \"\n",
        "            print(line)\n",
        "        print(\"\\n\")\n",
        "\n",
        "    def show_short_board(self, positions):\n",
        "        \"\"\"\n",
        "        Hiển thị các vị trí quân hậu trên bảng ở dạng nén, mỗi số đại diện cho vị trí cột bị chiếm trong hàng tương ứng.\n",
        "        \"\"\"\n",
        "        line = \"\"\n",
        "        for i in range(self.size):\n",
        "            line += str(positions[i]) + \" \"\n",
        "        print(line)"
      ]
    },
    {
      "cell_type": "code",
      "source": [
        "\"Khởi tạo và giải bài toán 8 quân hậu\"\n",
        "NQueens(8)"
      ],
      "metadata": {
        "id": "2c2RaH_sfxoV"
      },
      "execution_count": null,
      "outputs": []
    }
  ]
}
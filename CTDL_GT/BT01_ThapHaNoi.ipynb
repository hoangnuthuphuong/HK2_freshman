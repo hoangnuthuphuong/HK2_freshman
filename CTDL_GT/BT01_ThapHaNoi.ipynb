{
  "nbformat": 4,
  "nbformat_minor": 0,
  "metadata": {
    "colab": {
      "name": "CauTrucDuLieuVaGiaiThuat",
      "provenance": [],
      "collapsed_sections": []
    },
    "kernelspec": {
      "name": "python3",
      "display_name": "Python 3"
    },
    "language_info": {
      "name": "python"
    }
  },
  "cells": [
    {
      "cell_type": "markdown",
      "source": [
        "**Cách hoạt động của giải thuật:**\n",
        "\n",
        "> Di chuyển n dĩa đang ở cột_bắt_đầu đến cột_đích sao cho dĩa lớn hơn không được nằm trên dĩa nhỏ hơn."
      ],
      "metadata": {
        "id": "Ilmlu9tFP_4X"
      }
    },
    {
      "cell_type": "code",
      "execution_count": 3,
      "metadata": {
        "colab": {
          "base_uri": "https://localhost:8080/"
        },
        "id": "4D0Z-mxsMZJG",
        "outputId": "77036379-8e55-4cc9-a238-46ed3af87642"
      },
      "outputs": [
        {
          "output_type": "stream",
          "name": "stdout",
          "text": [
            "nhập số dĩa:3\n",
            "Di chuyển dĩa 1 từ cột gốc sang cột cuối\n",
            "Di chuyển dĩa  2 từ cột gốc sang cột trung gian\n",
            "Di chuyển dĩa 1 từ cột cuối sang cột trung gian\n",
            "Di chuyển dĩa  3 từ cột gốc sang cột cuối\n",
            "Di chuyển dĩa 1 từ cột trung gian sang cột gốc\n",
            "Di chuyển dĩa  2 từ cột trung gian sang cột cuối\n",
            "Di chuyển dĩa 1 từ cột gốc sang cột cuối\n",
            "None\n"
          ]
        }
      ],
      "source": [
        "n = int(input('nhập số dĩa:'))\n",
        "def thaphanoi(n, cột_bắt_đầu, cột_đích, cột_trung_gian):\n",
        "  if n == 1:\n",
        "    print(\"Di chuyển dĩa 1 từ cột\",cột_bắt_đầu,\"sang cột\",cột_đích)\n",
        "    return\n",
        "  thaphanoi(n-1, cột_bắt_đầu, cột_trung_gian, cột_đích)\n",
        "  print (\"Di chuyển dĩa \",n,\"từ cột\",cột_bắt_đầu,\"sang cột\",cột_đích)\n",
        "  thaphanoi(n-1, cột_trung_gian, cột_đích, cột_bắt_đầu)\n",
        "print(thaphanoi(n,\"gốc\",\"cuối\",\"trung gian\"))\n",
        "\n"
      ]
    },
    {
      "cell_type": "markdown",
      "source": [
        "**Trực quan hóa giải thuật:**\n",
        "\n",
        "\n",
        "\n",
        "https://gamevui.vn/thap-ha-noi/game"
      ],
      "metadata": {
        "id": "K87K1nS-QsrP"
      }
    }
  ]
}
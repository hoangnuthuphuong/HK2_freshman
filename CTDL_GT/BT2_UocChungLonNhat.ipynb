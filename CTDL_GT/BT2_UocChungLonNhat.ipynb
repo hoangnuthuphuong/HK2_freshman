{
  "nbformat": 4,
  "nbformat_minor": 0,
  "metadata": {
    "colab": {
      "name": "CauTrucDuLieuVaGiaiThuat",
      "provenance": [],
      "collapsed_sections": []
    },
    "kernelspec": {
      "name": "python3",
      "display_name": "Python 3"
    },
    "language_info": {
      "name": "python"
    }
  },
  "cells": [
    {
      "cell_type": "markdown",
      "source": [
        "**Cách hoạt động của giải thuật:**\n",
        "\n",
        "> **Giải thuật Euclid.**\n",
        "\n",
        "> Nhập hai số nguyên dương, giả sử a lớn hơn b, khi đó việc tính UCLN của a và b sẽ được đưa về bài toán tính UCLN của a mod b và b vì **UCLN(a, b) = UCLN(a mod b, b)**.\n",
        "\n",
        "> Nếu a mod b = 0 thì trả về UCLN của a và b là b"
      ],
      "metadata": {
        "id": "TAF9Ab1mUknk"
      }
    },
    {
      "cell_type": "code",
      "source": [
        "a = int(input(\"Nhập số thứ nhất = \"))\n",
        "b = int(input(\"Nhập số thứ hai = \"))\n",
        "\n",
        "def ucln(a, b):\n",
        "    if (b == 0):\n",
        "        return a\n",
        "    return ucln(b, a % b)\n",
        "print(\"Ước chung lớn nhất của\",a,\"và \",b,\"là :\",ucln(a,b))\n"
      ],
      "metadata": {
        "colab": {
          "base_uri": "https://localhost:8080/"
        },
        "id": "Eb5HQ5LwR-1l",
        "outputId": "3df0637e-cd0d-4cc6-a40b-7d718b6c666f"
      },
      "execution_count": 9,
      "outputs": [
        {
          "output_type": "stream",
          "name": "stdout",
          "text": [
            "Nhập số thứ nhất = 10\n",
            "Nhập số thứ hai = 3\n",
            "Ước chung lớn nhất của 10 và  3 là : 1\n"
          ]
        }
      ]
    }
  ]
}